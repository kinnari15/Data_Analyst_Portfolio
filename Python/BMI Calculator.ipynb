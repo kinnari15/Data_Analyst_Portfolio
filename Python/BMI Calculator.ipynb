{
 "cells": [
  {
   "cell_type": "code",
   "execution_count": 1,
   "id": "7f69fb82",
   "metadata": {},
   "outputs": [],
   "source": [
    "#BMI = (weight in pounds x 703) / (height in inches x height in inches)"
   ]
  },
  {
   "cell_type": "code",
   "execution_count": 11,
   "id": "53de751e",
   "metadata": {},
   "outputs": [
    {
     "name": "stdout",
     "output_type": "stream",
     "text": [
      "Enter your name: Kinnari\n",
      "Please Enter your weight in pounds: 105\n",
      "Please Enter your height in inches: 63\n",
      "18.597883597883598\n",
      "Kinnari, you are normal weight.\n"
     ]
    }
   ],
   "source": [
    "name = input(\"Enter your name: \")\n",
    "\n",
    "weight = int(input(\"Please Enter your weight in pounds: \"))\n",
    "\n",
    "height = int(input(\"Please Enter your height in inches: \"))\n",
    "\n",
    "BMI = (weight * 703) / (height * height)\n",
    "\n",
    "print(BMI)\n",
    "\n",
    "if BMI > 0:\n",
    "    if BMI < 18.5:\n",
    "        print(f\"{name}, you are underweight.\")\n",
    "    elif BMI <= 24.9:\n",
    "        print(f\"{name}, you are normal weight.\")\n",
    "    elif BMI < 29.9:\n",
    "        print(f\"{name}, you are overweight.\")\n",
    "    elif BMI < 34.9:\n",
    "        print(f\"{name}, you are obese.\")\n",
    "    elif BMI < 39.9:\n",
    "        print(f\"{name}, you are severely obese.\")\n",
    "    else:\n",
    "        print(f\"{name}, you are over-mordbidly obese.\")   \n",
    "else:\n",
    "    print(\"Enter valid input.\")"
   ]
  },
  {
   "cell_type": "code",
   "execution_count": null,
   "id": "75807367",
   "metadata": {},
   "outputs": [],
   "source": []
  }
 ],
 "metadata": {
  "kernelspec": {
   "display_name": "Python 3 (ipykernel)",
   "language": "python",
   "name": "python3"
  },
  "language_info": {
   "codemirror_mode": {
    "name": "ipython",
    "version": 3
   },
   "file_extension": ".py",
   "mimetype": "text/x-python",
   "name": "python",
   "nbconvert_exporter": "python",
   "pygments_lexer": "ipython3",
   "version": "3.11.5"
  }
 },
 "nbformat": 4,
 "nbformat_minor": 5
}
